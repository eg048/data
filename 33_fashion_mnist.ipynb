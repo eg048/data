{
  "cells": [
    {
      "cell_type": "markdown",
      "metadata": {
        "id": "view-in-github",
        "colab_type": "text"
      },
      "source": [
        "<a href=\"https://colab.research.google.com/github/eg048/data/blob/master/33_fashion_mnist.ipynb\" target=\"_parent\"><img src=\"https://colab.research.google.com/assets/colab-badge.svg\" alt=\"Open In Colab\"/></a>"
      ]
    },
    {
      "cell_type": "markdown",
      "metadata": {
        "id": "YTk3gPgAs4gY"
      },
      "source": [
        "# Classify images of clothing"
      ]
    },
    {
      "cell_type": "markdown",
      "metadata": {
        "id": "MhoQ0WE77laV"
      },
      "source": [
        "*The content of this notebook is mainly based on Laurence Moroney's video tutorial [Basic Computer Vision with ML](https://www.youtube.com/watch?v=bemDFpNooA8) and\n",
        "the TensorFlow tutorial \"Basic classification: Classify images of clothing\". Here is the original source code:*\n",
        "\n",
        " <a target=\"_blank\" href=\"https://www.tensorflow.org/tutorials/keras/classification\"><img src=\"https://www.tensorflow.org/images/tf_logo_32px.png\" />View on TensorFlow.org</a>"
      ]
    },
    {
      "cell_type": "markdown",
      "metadata": {
        "id": "FbVhjPpzn6BM"
      },
      "source": [
        "In this tutorial we are going to train a sequential neural network model to classify images of clothing, like sneakers and shirts. We will use [keras](https://www.tensorflow.org/guide/keras), a high-level API to build and train models in TensorFlow."
      ]
    },
    {
      "cell_type": "markdown",
      "metadata": {
        "id": "e_ax2vXes4gg"
      },
      "source": [
        "## Setup"
      ]
    },
    {
      "cell_type": "code",
      "execution_count": 2,
      "metadata": {
        "execution": {
          "iopub.execute_input": "2021-06-19T02:10:41.425197Z",
          "iopub.status.busy": "2021-06-19T02:10:41.424646Z",
          "iopub.status.idle": "2021-06-19T02:10:43.015891Z",
          "shell.execute_reply": "2021-06-19T02:10:43.016303Z"
        },
        "id": "dzLKpmZICaWN",
        "colab": {
          "base_uri": "https://localhost:8080/"
        },
        "outputId": "b84a9768-4ee0-48cd-dd5c-09a29e2d5a2e"
      },
      "outputs": [
        {
          "output_type": "stream",
          "name": "stdout",
          "text": [
            "2.9.2\n"
          ]
        }
      ],
      "source": [
        "# TensorFlow and Keras\n",
        "import tensorflow as tf\n",
        "from tensorflow import keras\n",
        "from tensorflow.keras import layers\n",
        "\n",
        "# Helper libraries\n",
        "import numpy as np\n",
        "import matplotlib.pyplot as plt\n",
        "\n",
        "print(tf.__version__)"
      ]
    },
    {
      "cell_type": "markdown",
      "metadata": {
        "id": "yR0EdgrLCaWR"
      },
      "source": [
        "## Import data"
      ]
    },
    {
      "cell_type": "markdown",
      "metadata": {
        "id": "1j9L-dCSs4gj"
      },
      "source": [
        "We use the [Fashion MNIST](https://github.com/zalandoresearch/fashion-mnist) dataset which contains 70,000 grayscale images in 10 categories. The images show individual articles of clothing at low resolution (28 by 28 pixels), as seen here:\n",
        "\n",
        "<table>\n",
        "  <tr><td>\n",
        "    <img src=\"https://tensorflow.org/images/fashion-mnist-sprite.png\"\n",
        "         alt=\"Fashion MNIST sprite\"  width=\"600\">\n",
        "  </td></tr>\n",
        "  <tr><td align=\"center\">\n",
        "    <b>Figure 1.</b> <a href=\"https://github.com/zalandoresearch/fashion-mnist\">Fashion-MNIST samples</a> (by Zalando, MIT License).<br/>&nbsp;\n",
        "  </td></tr>\n",
        "</table>\n",
        "\n",
        "Fashion MNIST is intended as a drop-in replacement for the classic [MNIST](http://yann.lecun.com/exdb/mnist/) dataset—often used as the \"Hello, World\" of machine learning programs for computer vision. The MNIST dataset contains images of handwritten digits (0, 1, 2, etc.) in a format identical to that of the articles of clothing you'll use here.\n",
        "\n",
        "Here, 60,000 images are used to train the network and 10,000 images to evaluate how accurately the network learned to classify images. You can access the Fashion MNIST directly from TensorFlow. Import and [load the Fashion MNIST data](https://www.tensorflow.org/api_docs/python/tf/keras/datasets/fashion_mnist/load_data) directly from TensorFlow:"
      ]
    },
    {
      "cell_type": "code",
      "execution_count": 4,
      "metadata": {
        "execution": {
          "iopub.execute_input": "2021-06-19T02:10:43.020609Z",
          "iopub.status.busy": "2021-06-19T02:10:43.020003Z",
          "iopub.status.idle": "2021-06-19T02:10:45.003038Z",
          "shell.execute_reply": "2021-06-19T02:10:45.002512Z"
        },
        "id": "7MqDQO0KCaWS"
      },
      "outputs": [],
      "source": [
        "fashion_mnist = keras.datasets.fashion_mnist\n",
        "\n",
        "(train_images, train_labels), (test_images, test_labels) = fashion_mnist.load_data()"
      ]
    },
    {
      "cell_type": "markdown",
      "metadata": {
        "id": "C3aS0uNZs4gn"
      },
      "source": [
        "Loading the dataset returns four NumPy arrays:\n",
        "\n",
        "* The `train_images` and `train_labels` arrays are the *training set*—the data the model uses to learn.\n",
        "* The model is tested against the *test set*, the `test_images`, and `test_labels` arrays.\n",
        "\n",
        "The images are 28x28 NumPy arrays, with pixel values ranging from 0 to 255. The *labels* are an array of integers, ranging from 0 to 9. These correspond to the *class* of clothing the image represents:\n",
        "\n",
        "<table>\n",
        "  <tr>\n",
        "    <th>Label</th>\n",
        "    <th>Class</th>\n",
        "  </tr>\n",
        "  <tr>\n",
        "    <td>0</td>\n",
        "    <td>T-shirt/top</td>\n",
        "  </tr>\n",
        "  <tr>\n",
        "    <td>1</td>\n",
        "    <td>Trouser</td>\n",
        "  </tr>\n",
        "    <tr>\n",
        "    <td>2</td>\n",
        "    <td>Pullover</td>\n",
        "  </tr>\n",
        "    <tr>\n",
        "    <td>3</td>\n",
        "    <td>Dress</td>\n",
        "  </tr>\n",
        "    <tr>\n",
        "    <td>4</td>\n",
        "    <td>Coat</td>\n",
        "  </tr>\n",
        "    <tr>\n",
        "    <td>5</td>\n",
        "    <td>Sandal</td>\n",
        "  </tr>\n",
        "    <tr>\n",
        "    <td>6</td>\n",
        "    <td>Shirt</td>\n",
        "  </tr>\n",
        "    <tr>\n",
        "    <td>7</td>\n",
        "    <td>Sneaker</td>\n",
        "  </tr>\n",
        "    <tr>\n",
        "    <td>8</td>\n",
        "    <td>Bag</td>\n",
        "  </tr>\n",
        "    <tr>\n",
        "    <td>9</td>\n",
        "    <td>Ankle boot</td>\n",
        "  </tr>\n",
        "</table>\n",
        "\n",
        "Each image is mapped to a single label. Since the *class names* are not included with the dataset, store them here to use later when plotting the images:"
      ]
    },
    {
      "cell_type": "code",
      "execution_count": 7,
      "metadata": {
        "execution": {
          "iopub.execute_input": "2021-06-19T02:10:45.007521Z",
          "iopub.status.busy": "2021-06-19T02:10:45.006928Z",
          "iopub.status.idle": "2021-06-19T02:10:45.008782Z",
          "shell.execute_reply": "2021-06-19T02:10:45.009129Z"
        },
        "id": "IjnLH5S2CaWx"
      },
      "outputs": [],
      "source": [
        "class_names = ['T-shirt/top', 'Trouser', 'Pullover', 'Dress', 'Coat',\n",
        "               'Sandal', 'Shirt', 'Sneaker', 'Bag', 'Ankle boot']"
      ]
    },
    {
      "cell_type": "markdown",
      "metadata": {
        "id": "OEolVVqhs4gp"
      },
      "source": [
        "## Data exploration"
      ]
    },
    {
      "cell_type": "markdown",
      "metadata": {
        "id": "JgWNNDPPs4gq"
      },
      "source": [
        "Let's explore the format of the dataset before training the model.\n",
        "\n",
        "If you inspect the first image in the training set, you will see that each picture is represented as 28 x 28 pixels and that the pixel values fall in the range of 0 to 255:"
      ]
    },
    {
      "cell_type": "code",
      "execution_count": 8,
      "metadata": {
        "colab": {
          "base_uri": "https://localhost:8080/",
          "height": 265
        },
        "id": "FDgbOhDGs4gr",
        "outputId": "f7b7f61d-8104-4a3b-b9b7-c06d77858c2a"
      },
      "outputs": [
        {
          "output_type": "display_data",
          "data": {
            "text/plain": [
              "<Figure size 432x288 with 2 Axes>"
            ],
            "image/png": "[encoded data removed]"
          },
          "metadata": {
            "needs_background": "light"
          }
        }
      ],
      "source": [
        "plt.figure()\n",
        "plt.imshow(train_images[0], cmap=plt.cm.binary)\n",
        "plt.colorbar()\n",
        "plt.grid(False)\n",
        "plt.show()"
      ]
    },
    {
      "cell_type": "markdown",
      "metadata": {
        "id": "UpCijuP0s4gr"
      },
      "source": [
        "The following shows there are 60,000 images in the training set, with each image represented as 28 x 28 pixels. "
      ]
    },
    {
      "cell_type": "code",
      "execution_count": 9,
      "metadata": {
        "colab": {
          "base_uri": "https://localhost:8080/"
        },
        "id": "3C5OWbOOs4gs",
        "outputId": "cea09289-7319-46cd-f778-1ff02ed473f3"
      },
      "outputs": [
        {
          "output_type": "execute_result",
          "data": {
            "text/plain": [
              "(60000, 28, 28)"
            ]
          },
          "metadata": {},
          "execution_count": 9
        }
      ],
      "source": [
        "train_images.shape"
      ]
    },
    {
      "cell_type": "markdown",
      "metadata": {
        "id": "3uyhTKe7s4gt"
      },
      "source": [
        "Likewise, there are 60,000 labels in the training set:"
      ]
    },
    {
      "cell_type": "code",
      "execution_count": 10,
      "metadata": {
        "colab": {
          "base_uri": "https://localhost:8080/"
        },
        "id": "HmXE4gcMs4gt",
        "outputId": "8fe2137b-8c24-4d91-ec43-5c3579497c6f"
      },
      "outputs": [
        {
          "output_type": "execute_result",
          "data": {
            "text/plain": [
              "60000"
            ]
          },
          "metadata": {},
          "execution_count": 10
        }
      ],
      "source": [
        "len(train_labels)"
      ]
    },
    {
      "cell_type": "markdown",
      "metadata": {
        "id": "OnbBr9yms4gu"
      },
      "source": [
        "Each label is an integer between 0 and 9:"
      ]
    },
    {
      "cell_type": "code",
      "execution_count": 11,
      "metadata": {
        "colab": {
          "base_uri": "https://localhost:8080/"
        },
        "id": "YoYdq8yQs4gu",
        "outputId": "0d1e54da-2744-4715-ebfa-eaa592448c5d"
      },
      "outputs": [
        {
          "output_type": "execute_result",
          "data": {
            "text/plain": [
              "array([9, 0, 0, ..., 3, 0, 5], dtype=uint8)"
            ]
          },
          "metadata": {},
          "execution_count": 11
        }
      ],
      "source": [
        "train_labels"
      ]
    },
    {
      "cell_type": "markdown",
      "metadata": {
        "id": "KWA-jHe6s4gv"
      },
      "source": [
        "And the test set contains 10,000 images labels:"
      ]
    },
    {
      "cell_type": "code",
      "execution_count": 12,
      "metadata": {
        "colab": {
          "base_uri": "https://localhost:8080/"
        },
        "id": "phPsLzH4s4gv",
        "outputId": "9a94edcb-0fa7-47d7-f199-79a911dd58ac"
      },
      "outputs": [
        {
          "output_type": "execute_result",
          "data": {
            "text/plain": [
              "10000"
            ]
          },
          "metadata": {},
          "execution_count": 12
        }
      ],
      "source": [
        "len(test_labels)"
      ]
    },
    {
      "cell_type": "markdown",
      "metadata": {
        "id": "ES6uQoLKCaWr"
      },
      "source": [
        "## Preprocess the data\n",
        "\n",
        "The data must be preprocessed before training the network. Remember that the pixel values fall in the range of 0 to 255. \n",
        "\n",
        "We need to scale these values to a range of 0 to 1 before feeding them to the neural network model. \n",
        "\n",
        "To do so, divide the values by 255. It's important that the *training set* and the *testing set* be preprocessed in the same way:"
      ]
    },
    {
      "cell_type": "code",
      "execution_count": 15,
      "metadata": {
        "execution": {
          "iopub.execute_input": "2021-06-19T02:10:45.202348Z",
          "iopub.status.busy": "2021-06-19T02:10:45.201806Z",
          "iopub.status.idle": "2021-06-19T02:10:45.349724Z",
          "shell.execute_reply": "2021-06-19T02:10:45.349111Z"
        },
        "id": "bW5WzIPlCaWv"
      },
      "outputs": [],
      "source": [
        "train_images = train_images / 255.0\n",
        "\n",
        "test_images = test_images / 255.0"
      ]
    },
    {
      "cell_type": "markdown",
      "metadata": {
        "id": "D3mY_ucIs4gy"
      },
      "source": [
        "To verify that the data is in the correct format and that you're ready to build and train the network, let's display the first 25 images from the *training set* and display the class name below each image."
      ]
    },
    {
      "cell_type": "code",
      "execution_count": 16,
      "metadata": {
        "colab": {
          "base_uri": "https://localhost:8080/",
          "height": 589
        },
        "id": "iSsF2c2qs4gy",
        "outputId": "2855061c-5f5c-4ff6-9155-bc95488413e8"
      },
      "outputs": [
        {
          "output_type": "display_data",
          "data": {
            "text/plain": [
              "<Figure size 720x720 with 25 Axes>"
            ],
            "image/png": "[encoded data removed]"
          },
          "metadata": {}
        }
      ],
      "source": [
        "plt.figure(figsize=(10,10))\n",
        "\n",
        "for i in range(25):\n",
        "    plt.subplot(5,5,i+1)\n",
        "    plt.xticks([])\n",
        "    plt.yticks([])\n",
        "    plt.grid(False)\n",
        "    plt.imshow(train_images[i], cmap=plt.cm.binary)\n",
        "    plt.xlabel(class_names[train_labels[i]])\n",
        "plt.show()"
      ]
    },
    {
      "cell_type": "markdown",
      "metadata": {
        "id": "59veuiEZCaW4"
      },
      "source": [
        "## Model\n",
        "\n",
        "Building the neural network requires configuring the layers of the model, then compiling the model."
      ]
    },
    {
      "cell_type": "markdown",
      "metadata": {
        "id": "Gxg1XGm0eOBy"
      },
      "source": [
        "### Set up layers\n",
        "\n",
        "The basic building block of a neural network is the [*layer*](https://www.tensorflow.org/api_docs/python/tf/keras/layers). \n",
        "\n",
        "Layers extract representations from the data fed into them. Hopefully, these representations are meaningful for the problem at hand.\n",
        "\n",
        "Most of deep learning consists of chaining together simple layers. Most layers, such as `layers.Dense`, have parameters that are learned during training."
      ]
    },
    {
      "cell_type": "code",
      "execution_count": 20,
      "metadata": {
        "execution": {
          "iopub.execute_input": "2021-06-19T02:10:46.198966Z",
          "iopub.status.busy": "2021-06-19T02:10:46.197718Z",
          "iopub.status.idle": "2021-06-19T02:10:47.750372Z",
          "shell.execute_reply": "2021-06-19T02:10:47.750807Z"
        },
        "id": "9ODch-OFCaW4"
      },
      "outputs": [],
      "source": [
        "model = keras.Sequential(\n",
        "    [\n",
        "        layers.Flatten(input_shape=(28, 28), name=\"layer1\"),\n",
        "        layers.Dense(128, activation='relu', name=\"layer2\"),\n",
        "        layers.Dense(60, activation='relu', name=\"layer2b\"),\n",
        "        layers.Dropout(0.05, name=\"layer3\"),\n",
        "        layers.Dense(10, name=\"layer4\")\n",
        "])"
      ]
    },
    {
      "cell_type": "markdown",
      "metadata": {
        "id": "gut8A_7rCaW6"
      },
      "source": [
        "`layer1`:\n",
        "\n",
        "- The first layer in this network, `layers.Flatten`, transforms the format of the images from a two-dimensional array (of 28 by 28 pixels) to a one-dimensional array (of 28 * 28 = 784 pixels). \n",
        "- Think of this layer as unstacking rows of pixels in the image and lining them up. This layer has no parameters to learn; it only reformats the data."
      ]
    },
    {
      "cell_type": "markdown",
      "metadata": {
        "id": "iHbUpbRhs4g1"
      },
      "source": [
        "\n",
        "\n",
        "`layer2`:\n",
        "\n",
        "- The first `Dense` layer has 128 nodes (also called functions or neurons). \n",
        "- Each layer of neurons need an **activation function** to tell them what to do. \n",
        "- **Relu** effectively means \"If X>0 return X, else return 0\". So it only passes values 0 or greater to the next layer in the network."
      ]
    },
    {
      "cell_type": "markdown",
      "metadata": {
        "id": "tguOLZPVs4g1"
      },
      "source": [
        "`layer3:` \n",
        "\n",
        " - The ``Dropout`` layer randomly sets input units to 0 with a given frequency rate at each step during training time, which helps prevent overfitting. "
      ]
    },
    {
      "cell_type": "markdown",
      "metadata": {
        "id": "8Yar6zt7s4g1"
      },
      "source": [
        "\n",
        "\n",
        "`layer4`:\n",
        "\n",
        "- This layer returns a [logit](https://en.wikipedia.org/wiki/Logit) array with length of 10. \n",
        "- The logit is a type of function that maps probability values from 0 to 1 to real numbers in the range of  $-\\infty$ to $+\\infty$.\n",
        "- This simply means that each node contains a score (also called \"log-odd\") that indicates how likely it is that the current image belongs to one of the 10 classes.\n",
        "\n",
        "### Compile the model\n",
        "\n",
        "Before the model is ready for training, it needs a few more settings. These are added during the model's [*compile*](https://www.tensorflow.org/api_docs/python/tf/keras/Model#compile) step:\n",
        "\n",
        "* [*Loss function*](https://www.tensorflow.org/api_docs/python/tf/keras/losses) —This measures how accurate the model is during training. You want to minimize this function to \"steer\" the model in the right direction.\n",
        "* [*Optimizer*](https://www.tensorflow.org/api_docs/python/tf/keras/optimizers) —This is how the model is updated based on the data it sees and its loss function.\n",
        "* [*Metrics*](https://www.tensorflow.org/api_docs/python/tf/keras/metrics) —Used to monitor the training and testing steps. The following example uses *accuracy*, the fraction of the images that are correctly classified."
      ]
    },
    {
      "cell_type": "code",
      "execution_count": 21,
      "metadata": {
        "execution": {
          "iopub.execute_input": "2021-06-19T02:10:47.757560Z",
          "iopub.status.busy": "2021-06-19T02:10:47.756997Z",
          "iopub.status.idle": "2021-06-19T02:10:47.762364Z",
          "shell.execute_reply": "2021-06-19T02:10:47.761965Z"
        },
        "id": "Lhan11blCaW7"
      },
      "outputs": [],
      "source": [
        "model.compile(optimizer='adam',\n",
        "              loss=keras.losses.SparseCategoricalCrossentropy(from_logits=True),\n",
        "              metrics=['accuracy'])"
      ]
    },
    {
      "cell_type": "markdown",
      "metadata": {
        "id": "qKF6uW-BCaW-"
      },
      "source": [
        "### Train the model\n",
        "\n",
        "To train the neural network model, we feed the training data to the model. \n",
        "\n",
        "- The training data is in the `train_images` and `train_labels` arrays.\n",
        "- We also need to choose the number of epochs to train the model. "
      ]
    },
    {
      "cell_type": "markdown",
      "metadata": {
        "id": "Z4P4zIV7E28Z"
      },
      "source": [
        "\n",
        "To start training,  call the [`model.fit`](https://www.tensorflow.org/api_docs/python/tf/keras/Model#fit) method—so called because it \"fits\" the model to the training data:"
      ]
    },
    {
      "cell_type": "code",
      "execution_count": null,
      "metadata": {
        "execution": {
          "iopub.execute_input": "2021-06-19T02:10:47.765869Z",
          "iopub.status.busy": "2021-06-19T02:10:47.765331Z",
          "iopub.status.idle": "2021-06-19T02:11:14.841393Z",
          "shell.execute_reply": "2021-06-19T02:11:14.841736Z"
        },
        "id": "xvwvpA64CaW_",
        "outputId": "bf7e30c5-db18-406a-a20e-6d442cfe310b"
      },
      "outputs": [
        {
          "name": "stdout",
          "output_type": "stream",
          "text": [
            "Epoch 1/10\n",
            "1875/1875 [==============================] - 2s 798us/step - loss: 0.5094 - accuracy: 0.8222\n",
            "Epoch 2/10\n",
            "1875/1875 [==============================] - 1s 757us/step - loss: 0.3856 - accuracy: 0.8615\n",
            "Epoch 3/10\n",
            "1875/1875 [==============================] - 1s 729us/step - loss: 0.3480 - accuracy: 0.8726\n",
            "Epoch 4/10\n",
            "1875/1875 [==============================] - 1s 755us/step - loss: 0.3237 - accuracy: 0.8815\n",
            "Epoch 5/10\n",
            "1875/1875 [==============================] - 1s 785us/step - loss: 0.3076 - accuracy: 0.8860\n",
            "Epoch 6/10\n",
            "1875/1875 [==============================] - 1s 734us/step - loss: 0.2933 - accuracy: 0.8918\n",
            "Epoch 7/10\n",
            "1875/1875 [==============================] - 1s 746us/step - loss: 0.2816 - accuracy: 0.8951\n",
            "Epoch 8/10\n",
            "1875/1875 [==============================] - 1s 792us/step - loss: 0.2726 - accuracy: 0.8990\n",
            "Epoch 9/10\n",
            "1875/1875 [==============================] - 2s 820us/step - loss: 0.2615 - accuracy: 0.9011\n",
            "Epoch 10/10\n",
            "1875/1875 [==============================] - 1s 776us/step - loss: 0.2540 - accuracy: 0.9068\n"
          ]
        },
        {
          "data": {
            "text/plain": [
              "<keras.callbacks.History at 0x7fcaeae206d0>"
            ]
          },
          "execution_count": 13,
          "metadata": {},
          "output_type": "execute_result"
        }
      ],
      "source": [
        "model.fit(train_images, train_labels, epochs=10)"
      ]
    },
    {
      "cell_type": "markdown",
      "metadata": {
        "id": "W3ZVOhugCaXA"
      },
      "source": [
        "As the model trains, the loss and accuracy metrics are displayed."
      ]
    },
    {
      "cell_type": "markdown",
      "metadata": {
        "id": "wCpr6DGyE28h"
      },
      "source": [
        "### Evaluate accuracy\n",
        "\n",
        "Next, compare how the model performs on the test dataset. This means you ask the model to make predictions about a test set. In this example, the `test_images` array.\n"
      ]
    },
    {
      "cell_type": "code",
      "execution_count": null,
      "metadata": {
        "execution": {
          "iopub.execute_input": "2021-06-19T02:11:14.846050Z",
          "iopub.status.busy": "2021-06-19T02:11:14.845496Z",
          "iopub.status.idle": "2021-06-19T02:11:15.331761Z",
          "shell.execute_reply": "2021-06-19T02:11:15.332153Z"
        },
        "id": "VflXLEeECaXC",
        "outputId": "58232d4d-dcde-4fb8-d54b-5cc554b0388c"
      },
      "outputs": [
        {
          "name": "stdout",
          "output_type": "stream",
          "text": [
            "313/313 - 0s - loss: 0.3213 - accuracy: 0.8853 - 232ms/epoch - 741us/step\n",
            " Test accuracy: 0.885 \n",
            " Test loss 0.321\n"
          ]
        }
      ],
      "source": [
        "test_loss, test_acc = model.evaluate(test_images, test_labels, verbose=2)\n",
        "\n",
        "print(f' Test accuracy: {test_acc:.3f} \\n Test loss {test_loss:.3f}')"
      ]
    },
    {
      "cell_type": "markdown",
      "metadata": {
        "id": "yWfgsmVXCaXG"
      },
      "source": [
        "If the accuracy on the test dataset is less than the accuracy on the training dataset, this gap represents *overfitting*. \n",
        "\n",
        "Overfitting happens when a machine learning model performs worse on new, previously unseen inputs than it does on the training data. An overfitted model \"memorizes\" the noise and details in the training dataset to a point where it negatively impacts the performance of the model on the new data."
      ]
    },
    {
      "cell_type": "markdown",
      "metadata": {
        "id": "v-PyD1SYE28q"
      },
      "source": [
        "### Make predictions\n",
        "\n",
        "With the model trained, you can use it to make predictions about some images. We attach a `softmax` layer to convert the model's linear outputs (logits) to probabilities (percentages), which are be easier to interpret:"
      ]
    },
    {
      "cell_type": "code",
      "execution_count": null,
      "metadata": {
        "execution": {
          "iopub.execute_input": "2021-06-19T02:11:15.337141Z",
          "iopub.status.busy": "2021-06-19T02:11:15.336575Z",
          "iopub.status.idle": "2021-06-19T02:11:15.349833Z",
          "shell.execute_reply": "2021-06-19T02:11:15.349409Z"
        },
        "id": "DnfNA0CrQLSD"
      },
      "outputs": [],
      "source": [
        "probability_model = keras.Sequential([\n",
        "                        model, layers.Softmax()\n",
        "                        ])"
      ]
    },
    {
      "cell_type": "code",
      "execution_count": null,
      "metadata": {
        "execution": {
          "iopub.execute_input": "2021-06-19T02:11:15.353310Z",
          "iopub.status.busy": "2021-06-19T02:11:15.352656Z",
          "iopub.status.idle": "2021-06-19T02:11:15.652106Z",
          "shell.execute_reply": "2021-06-19T02:11:15.652581Z"
        },
        "id": "Gl91RPhdCaXI"
      },
      "outputs": [],
      "source": [
        "predictions = probability_model.predict(test_images)"
      ]
    },
    {
      "cell_type": "markdown",
      "metadata": {
        "id": "x9Kk1voUCaXJ"
      },
      "source": [
        "Here, the model has predicted the label for each image in the testing set. Let's take a look at the first prediction:"
      ]
    },
    {
      "cell_type": "code",
      "execution_count": null,
      "metadata": {
        "execution": {
          "iopub.execute_input": "2021-06-19T02:11:15.656965Z",
          "iopub.status.busy": "2021-06-19T02:11:15.656322Z",
          "iopub.status.idle": "2021-06-19T02:11:15.658935Z",
          "shell.execute_reply": "2021-06-19T02:11:15.659340Z"
        },
        "id": "3DmJEUinCaXK",
        "outputId": "07ab8722-1f01-427a-d844-5ee51ecf9829"
      },
      "outputs": [
        {
          "data": {
            "text/plain": [
              "array([2.7214844e-08, 3.5939223e-08, 1.3246297e-07, 1.9636468e-08,\n",
              "       1.3148453e-07, 6.5520611e-03, 5.3073709e-08, 1.8532565e-02,\n",
              "       1.5230922e-08, 9.7491497e-01], dtype=float32)"
            ]
          },
          "execution_count": 17,
          "metadata": {},
          "output_type": "execute_result"
        }
      ],
      "source": [
        "predictions[0]"
      ]
    },
    {
      "cell_type": "markdown",
      "metadata": {
        "id": "-hw1hgeSCaXN"
      },
      "source": [
        "- A prediction is an array of 10 numbers. \n",
        "- They represent the model's \"confidence\" that the image corresponds to each of the 10 different articles of clothing.\n",
        "\n",
        "You can see which label has the highest confidence value:"
      ]
    },
    {
      "cell_type": "code",
      "execution_count": null,
      "metadata": {
        "execution": {
          "iopub.execute_input": "2021-06-19T02:11:15.663044Z",
          "iopub.status.busy": "2021-06-19T02:11:15.662329Z",
          "iopub.status.idle": "2021-06-19T02:11:15.664642Z",
          "shell.execute_reply": "2021-06-19T02:11:15.665025Z"
        },
        "id": "qsqenuPnCaXO",
        "outputId": "e158a2a7-4ade-4e3e-c233-273572f41d36"
      },
      "outputs": [
        {
          "data": {
            "text/plain": [
              "9"
            ]
          },
          "execution_count": 18,
          "metadata": {},
          "output_type": "execute_result"
        }
      ],
      "source": [
        "np.argmax(predictions[0])"
      ]
    },
    {
      "cell_type": "markdown",
      "metadata": {
        "id": "E51yS7iCCaXO"
      },
      "source": [
        "So, the model is most confident that this image is an ankle boot, or `class_names[9]`. Examining the test label shows that this classification is correct:"
      ]
    },
    {
      "cell_type": "code",
      "execution_count": null,
      "metadata": {
        "execution": {
          "iopub.execute_input": "2021-06-19T02:11:15.668514Z",
          "iopub.status.busy": "2021-06-19T02:11:15.667929Z",
          "iopub.status.idle": "2021-06-19T02:11:15.670172Z",
          "shell.execute_reply": "2021-06-19T02:11:15.670499Z"
        },
        "id": "Sd7Pgsu6CaXP",
        "outputId": "bfbd0d4c-4930-4a9b-cee2-c4727b914360"
      },
      "outputs": [
        {
          "data": {
            "text/plain": [
              "9"
            ]
          },
          "execution_count": 19,
          "metadata": {},
          "output_type": "execute_result"
        }
      ],
      "source": [
        "test_labels[0]"
      ]
    },
    {
      "cell_type": "markdown",
      "metadata": {
        "id": "Zh9yABaME29S"
      },
      "source": [
        "### Verify predictions\n",
        "\n",
        "Let's write functions to graph the full set of 10 class predictions."
      ]
    },
    {
      "cell_type": "code",
      "execution_count": null,
      "metadata": {
        "execution": {
          "iopub.execute_input": "2021-06-19T02:11:15.676656Z",
          "iopub.status.busy": "2021-06-19T02:11:15.676078Z",
          "iopub.status.idle": "2021-06-19T02:11:15.677769Z",
          "shell.execute_reply": "2021-06-19T02:11:15.678162Z"
        },
        "id": "DvYmmrpIy6Y1"
      },
      "outputs": [],
      "source": [
        "def plot_image(i, predictions_array, true_label, img):\n",
        "  true_label, img = true_label[i], img[i]\n",
        "  plt.grid(False)\n",
        "  plt.xticks([])\n",
        "  plt.yticks([])\n",
        "\n",
        "  plt.imshow(img, cmap=plt.cm.binary)\n",
        "\n",
        "  predicted_label = np.argmax(predictions_array)\n",
        "  if predicted_label == true_label:\n",
        "    color = 'blue'\n",
        "  else:\n",
        "    color = 'red'\n",
        "\n",
        "  plt.xlabel(\"{} {:2.0f}% ({})\".format(class_names[predicted_label],\n",
        "                                100*np.max(predictions_array),\n",
        "                                class_names[true_label]),\n",
        "                                color=color)\n",
        "\n",
        "def plot_value_array(i, predictions_array, true_label):\n",
        "  true_label = true_label[i]\n",
        "  plt.grid(False)\n",
        "  plt.xticks(range(10))\n",
        "  plt.yticks([])\n",
        "  thisplot = plt.bar(range(10), predictions_array, color=\"#777777\")\n",
        "  plt.ylim([0, 1])\n",
        "  predicted_label = np.argmax(predictions_array)\n",
        "\n",
        "  thisplot[predicted_label].set_color('red')\n",
        "  thisplot[true_label].set_color('blue')"
      ]
    },
    {
      "cell_type": "markdown",
      "metadata": {
        "id": "d4Ov9OFDMmOD"
      },
      "source": [
        "Let's look at the 0th image, predictions, and prediction array. Correct prediction labels are blue and incorrect prediction labels are red. The number gives the percentage (out of 100) for the predicted label."
      ]
    },
    {
      "cell_type": "code",
      "execution_count": null,
      "metadata": {
        "execution": {
          "iopub.execute_input": "2021-06-19T02:11:15.692032Z",
          "iopub.status.busy": "2021-06-19T02:11:15.691436Z",
          "iopub.status.idle": "2021-06-19T02:11:15.795288Z",
          "shell.execute_reply": "2021-06-19T02:11:15.794835Z"
        },
        "id": "HV5jw-5HwSmO",
        "outputId": "3fe8310a-3262-4224-adff-3c3ec2cec260"
      },
      "outputs": [
        {
          "data": {
            "image/png": "[encoded data removed]",
            "text/plain": [
              "<Figure size 432x216 with 2 Axes>"
            ]
          },
          "metadata": {
            "needs_background": "light"
          },
          "output_type": "display_data"
        }
      ],
      "source": [
        "i = 0\n",
        "plt.figure(figsize=(6,3))\n",
        "plt.subplot(1,2,1)\n",
        "\n",
        "plot_image(i, predictions[i], test_labels, test_images)\n",
        "plt.subplot(1,2,2)\n",
        "\n",
        "plot_value_array(i, predictions[i],  test_labels)\n",
        "plt.show()"
      ]
    },
    {
      "cell_type": "code",
      "execution_count": null,
      "metadata": {
        "execution": {
          "iopub.execute_input": "2021-06-19T02:11:15.842965Z",
          "iopub.status.busy": "2021-06-19T02:11:15.840945Z",
          "iopub.status.idle": "2021-06-19T02:11:15.910842Z",
          "shell.execute_reply": "2021-06-19T02:11:15.910442Z"
        },
        "id": "Ko-uzOufSCSe",
        "outputId": "90301582-91ba-45d8-a5d1-0dc5681b1670"
      },
      "outputs": [
        {
          "data": {
            "image/png": "[encoded data removed]",
            "text/plain": [
              "<Figure size 432x216 with 2 Axes>"
            ]
          },
          "metadata": {
            "needs_background": "light"
          },
          "output_type": "display_data"
        }
      ],
      "source": [
        "i = 12\n",
        "plt.figure(figsize=(6,3))\n",
        "plt.subplot(1,2,1)\n",
        "plot_image(i, predictions[i], test_labels, test_images)\n",
        "plt.subplot(1,2,2)\n",
        "plot_value_array(i, predictions[i],  test_labels)\n",
        "plt.show()"
      ]
    },
    {
      "cell_type": "markdown",
      "metadata": {
        "id": "kgdvGD52CaXR"
      },
      "source": [
        "Let's plot several images with their predictions. Note that the model can be wrong even when very confident."
      ]
    },
    {
      "cell_type": "code",
      "execution_count": null,
      "metadata": {
        "execution": {
          "iopub.execute_input": "2021-06-19T02:11:15.960460Z",
          "iopub.status.busy": "2021-06-19T02:11:15.957592Z",
          "iopub.status.idle": "2021-06-19T02:11:17.665634Z",
          "shell.execute_reply": "2021-06-19T02:11:17.666004Z"
        },
        "id": "hQlnbqaw2Qu_",
        "outputId": "9b03489e-f9b4-4c3c-b116-4154aa3b6c63"
      },
      "outputs": [
        {
          "data": {
            "image/png": "[encoded data removed]",
            "text/plain": [
              "<Figure size 864x720 with 30 Axes>"
            ]
          },
          "metadata": {
            "needs_background": "light"
          },
          "output_type": "display_data"
        }
      ],
      "source": [
        "# Plot the first X test images, their predicted labels, and the true labels.\n",
        "# Color correct predictions in blue and incorrect predictions in red.\n",
        "num_rows = 5\n",
        "num_cols = 3\n",
        "num_images = num_rows*num_cols\n",
        "plt.figure(figsize=(2*2*num_cols, 2*num_rows))\n",
        "for i in range(num_images):\n",
        "  plt.subplot(num_rows, 2*num_cols, 2*i+1)\n",
        "  plot_image(i, predictions[i], test_labels, test_images)\n",
        "  plt.subplot(num_rows, 2*num_cols, 2*i+2)\n",
        "  plot_value_array(i, predictions[i], test_labels)\n",
        "plt.tight_layout()\n",
        "plt.show()"
      ]
    },
    {
      "cell_type": "markdown",
      "metadata": {
        "id": "R32zteKHCaXT"
      },
      "source": [
        "## Use the trained model\n",
        "\n",
        "Finally, use the trained model to make a prediction about a single image."
      ]
    },
    {
      "cell_type": "code",
      "execution_count": null,
      "metadata": {
        "execution": {
          "iopub.execute_input": "2021-06-19T02:11:17.670060Z",
          "iopub.status.busy": "2021-06-19T02:11:17.669499Z",
          "iopub.status.idle": "2021-06-19T02:11:17.671843Z",
          "shell.execute_reply": "2021-06-19T02:11:17.671427Z"
        },
        "id": "yRJ7JU7JCaXT",
        "outputId": "de947b6f-420c-41c5-d7ea-fc436f4c9063"
      },
      "outputs": [
        {
          "name": "stdout",
          "output_type": "stream",
          "text": [
            "(28, 28)\n"
          ]
        }
      ],
      "source": [
        "# Grab an image from the test dataset.\n",
        "img = test_images[1]\n",
        "\n",
        "print(img.shape)"
      ]
    },
    {
      "cell_type": "markdown",
      "metadata": {
        "id": "vz3bVp21CaXV"
      },
      "source": [
        "`tf.keras` models are optimized to make predictions on a *batch*, or collection, of examples at once. Accordingly, even though you're using a single image, you need to add it to a list:"
      ]
    },
    {
      "cell_type": "code",
      "execution_count": null,
      "metadata": {
        "execution": {
          "iopub.execute_input": "2021-06-19T02:11:17.675565Z",
          "iopub.status.busy": "2021-06-19T02:11:17.675010Z",
          "iopub.status.idle": "2021-06-19T02:11:17.677236Z",
          "shell.execute_reply": "2021-06-19T02:11:17.676836Z"
        },
        "id": "lDFh5yF_CaXW",
        "outputId": "0b59b3e0-c8ec-478d-fca0-852881d5df31"
      },
      "outputs": [
        {
          "name": "stdout",
          "output_type": "stream",
          "text": [
            "(1, 28, 28)\n"
          ]
        }
      ],
      "source": [
        "# Add the image to a batch where it's the only member.\n",
        "img = (np.expand_dims(img,0))\n",
        "\n",
        "print(img.shape)"
      ]
    },
    {
      "cell_type": "markdown",
      "metadata": {
        "id": "EQ5wLTkcCaXY"
      },
      "source": [
        "Now predict the correct label for this image:"
      ]
    },
    {
      "cell_type": "code",
      "execution_count": null,
      "metadata": {
        "execution": {
          "iopub.execute_input": "2021-06-19T02:11:17.681330Z",
          "iopub.status.busy": "2021-06-19T02:11:17.680783Z",
          "iopub.status.idle": "2021-06-19T02:11:17.714081Z",
          "shell.execute_reply": "2021-06-19T02:11:17.714414Z"
        },
        "id": "o_rzNSdrCaXY",
        "outputId": "b66a4a8c-5c9c-46ca-93a3-b0f85a5f02f1"
      },
      "outputs": [
        {
          "name": "stdout",
          "output_type": "stream",
          "text": [
            "[[1.1900232e-05 1.4200392e-13 9.9936157e-01 2.2404726e-11 4.0746501e-04\n",
            "  8.0609104e-12 2.1913306e-04 4.2981963e-18 3.5087393e-08 8.4743935e-15]]\n"
          ]
        }
      ],
      "source": [
        "predictions_single = probability_model.predict(img)\n",
        "\n",
        "print(predictions_single)"
      ]
    },
    {
      "cell_type": "code",
      "execution_count": null,
      "metadata": {
        "execution": {
          "iopub.execute_input": "2021-06-19T02:11:17.744438Z",
          "iopub.status.busy": "2021-06-19T02:11:17.730177Z",
          "iopub.status.idle": "2021-06-19T02:11:17.803813Z",
          "shell.execute_reply": "2021-06-19T02:11:17.803398Z"
        },
        "id": "6Ai-cpLjO-3A",
        "outputId": "249b69d3-5c8f-49ee-c412-4f3c36844191"
      },
      "outputs": [
        {
          "data": {
            "image/png": "[encoded data removed]",
            "text/plain": [
              "<Figure size 432x288 with 1 Axes>"
            ]
          },
          "metadata": {
            "needs_background": "light"
          },
          "output_type": "display_data"
        }
      ],
      "source": [
        "plot_value_array(1, predictions_single[0], test_labels)\n",
        "_ = plt.xticks(range(10), class_names, rotation=45)\n",
        "plt.show()"
      ]
    },
    {
      "cell_type": "markdown",
      "metadata": {
        "id": "cU1Y2OAMCaXb"
      },
      "source": [
        "`tf.keras.Model.predict` returns a list of lists—one list for each image in the batch of data. Grab the predictions for our (only) image in the batch:"
      ]
    },
    {
      "cell_type": "code",
      "execution_count": null,
      "metadata": {
        "execution": {
          "iopub.execute_input": "2021-06-19T02:11:17.807659Z",
          "iopub.status.busy": "2021-06-19T02:11:17.807087Z",
          "iopub.status.idle": "2021-06-19T02:11:17.809285Z",
          "shell.execute_reply": "2021-06-19T02:11:17.809608Z"
        },
        "id": "2tRmdq_8CaXb",
        "outputId": "b94cec48-5aa7-4ad9-91c6-7265f312a005"
      },
      "outputs": [
        {
          "data": {
            "text/plain": [
              "2"
            ]
          },
          "execution_count": 28,
          "metadata": {},
          "output_type": "execute_result"
        }
      ],
      "source": [
        "np.argmax(predictions_single[0])"
      ]
    },
    {
      "cell_type": "markdown",
      "metadata": {
        "id": "YFc2HbEVCaXd"
      },
      "source": [
        "And the model predicts a label as expected."
      ]
    }
  ],
  "metadata": {
    "colab": {
      "provenance": [],
      "include_colab_link": true
    },
    "interpreter": {
      "hash": "cf58adf281c1109bb77a891a75331c6a35e06bb3b54dcea0b3d7f126e25a2a09"
    },
    "kernelspec": {
      "display_name": "Python 3.7.10 64-bit ('tf': conda)",
      "name": "python3"
    },
    "language_info": {
      "codemirror_mode": {
        "name": "ipython",
        "version": 3
      },
      "file_extension": ".py",
      "mimetype": "text/x-python",
      "name": "python",
      "nbconvert_exporter": "python",
      "pygments_lexer": "ipython3",
      "version": "3.8.12"
    }
  },
  "nbformat": 4,
  "nbformat_minor": 0
}